{
 "cells": [
  {
   "cell_type": "markdown",
   "metadata": {
    "id": "blI59vDd_yno"
   },
   "source": [
    "# Рекомендательная система на библиотеке surprise (Домашнее задание)\n"
   ]
  },
  {
   "cell_type": "code",
   "execution_count": 16,
   "metadata": {
    "id": "Pu43MMQD_yns"
   },
   "outputs": [],
   "source": [
    "import pandas as pd\n",
    "import numpy as np\n",
    "import os\n",
    "from pathlib import Path\n",
    "BASE_DIR = Path('/Users/dev/Рекомендательные системы')\n",
    "os.chdir(BASE_DIR)"
   ]
  },
  {
   "cell_type": "code",
   "execution_count": 2,
   "metadata": {
    "id": "Ov0SQK91_yn6"
   },
   "outputs": [],
   "source": [
    "from surprise import Dataset\n",
    "from surprise import Reader"
   ]
  },
  {
   "cell_type": "code",
   "execution_count": 3,
   "metadata": {
    "id": "AcOs63Na_yoE"
   },
   "outputs": [],
   "source": [
    "from surprise import KNNBaseline"
   ]
  },
  {
   "cell_type": "code",
   "execution_count": 4,
   "metadata": {
    "id": "TItsSg5e_yoN"
   },
   "outputs": [],
   "source": [
    "from surprise.model_selection import train_test_split"
   ]
  },
  {
   "cell_type": "code",
   "execution_count": 5,
   "metadata": {
    "id": "vaTHk6Wl_yoV"
   },
   "outputs": [],
   "source": [
    "def Precision_at_n(df_ratings, n=3, threshold=5):\n",
    "    rel_n = set(df_ratings[df_ratings.real_rating>=threshold]['itemID'])\n",
    "    t=df_ratings.sort_values(by='rating', ascending=False)[0:n]\n",
    "    ret_n=set(t['itemID'])\n",
    "    return len(rel_n & ret_n)/n"
   ]
  },
  {
   "cell_type": "code",
   "execution_count": 6,
   "metadata": {
    "id": "9NsHlWKF_yoa"
   },
   "outputs": [],
   "source": [
    "def Avg_Precision_at_n(df_ratings, n=10,threshold=5):\n",
    "    avg_p=0\n",
    "    rel_n = set(df_ratings[df_ratings.real_rating>=threshold]['itemID'])\n",
    "    \n",
    "    for i in range(1,n+1):\n",
    "        t=df_ratings.sort_values(by='rating', ascending=False)[0:i]\n",
    "        ret_n=set(t['itemID'])\n",
    "        t2=df_ratings.sort_values(by='rating', ascending=False)[i-1:i]\n",
    "        ret_n2=set(t2['itemID'])\n",
    "        #print(ret_n2,ret_n)\n",
    "        if len((ret_n2 & rel_n))>0:\n",
    "            avg_p=avg_p+len(rel_n & ret_n)/n\n",
    "    return avg_p/n"
   ]
  },
  {
   "cell_type": "code",
   "execution_count": 7,
   "metadata": {
    "id": "pFI50Ctf_yoh"
   },
   "outputs": [],
   "source": [
    "def Recall_at_n(df_ratings, n=3,threshold=5):\n",
    "    rel_n = set(df_ratings[df_ratings.real_rating>=threshold]['itemID'])\n",
    "    t=df_ratings.sort_values(by='rating', ascending=False)[0:n]\n",
    "    ret_n=set(t['itemID'])\n",
    "    return len(rel_n & ret_n)/len(set(rel_n))"
   ]
  },
  {
   "cell_type": "code",
   "execution_count": 8,
   "metadata": {
    "id": "kongmpxc_yoo"
   },
   "outputs": [],
   "source": [
    "def MAP_at_n(df_ratings_all, n=10, threshold=5):\n",
    "    users=df_ratings_all['userID'].unique()\n",
    "    map_at_n=0\n",
    "    for i in users:\n",
    "        df_ratings=df_ratings_all[df_ratings_all.userID==i]\n",
    "        map_at_n=map_at_n+Avg_Precision_at_n(df_ratings,n=n,threshold=threshold)\n",
    "    return map_at_n/len(users)   "
   ]
  },
  {
   "cell_type": "markdown",
   "metadata": {
    "id": "ErBUm4Rj_yos"
   },
   "source": [
    "## Легкое задание\n",
    "Для датасэта\n",
    "\n",
    "```\n",
    "data = Dataset.load_builtin('ml-100k')\n",
    "trainset, testset = train_test_split(data, test_size=.30)\n",
    "\n",
    "```\n",
    "\n",
    "Для каждого k= 10, 20 и 30 выбрать какой вариант KNN лучше item-based или user-based по метрике MAP_at_n (n=5)\n"
   ]
  },
  {
   "cell_type": "code",
   "execution_count": 9,
   "metadata": {
    "id": "iRGCIsMs_yoy"
   },
   "outputs": [],
   "source": [
    "data = Dataset.load_builtin('ml-100k')\n",
    "trainset, testset = train_test_split(data, test_size=.30)"
   ]
  },
  {
   "cell_type": "code",
   "execution_count": 59,
   "metadata": {},
   "outputs": [
    {
     "name": "stdout",
     "output_type": "stream",
     "text": [
      "При k = 10 лучше вариант item-based. MAP_at_n_item = 0.145 , MAP_at_n_user = 0.137\n",
      "При k = 20 лучше вариант item-based. MAP_at_n_item = 0.148 , MAP_at_n_user = 0.148\n",
      "При k = 30 лучше вариант item-based. MAP_at_n_item = 0.153 , MAP_at_n_user = 0.151\n"
     ]
    }
   ],
   "source": [
    "map_list = []\n",
    "count = 0\n",
    "for k in range(10, 31, 10):\n",
    "    for based in [True, False]:\n",
    "        algo = KNNBaseline(k=k, sim_options={\n",
    "                           'user_based': based}, verbose=False)\n",
    "        predictions = algo.fit(trainset).test(testset)\n",
    "        df_ratings = pd.DataFrame(\n",
    "            columns=['userID', 'itemID', 'rating', 'real_rating'])\n",
    "        for i in predictions:\n",
    "            df_ratings = df_ratings.append(\n",
    "                {'userID': i.uid, 'itemID': i.iid, 'rating': i.est, 'real_rating': i.r_ui}, ignore_index=True)\n",
    "        map_list.append(MAP_at_n(df_ratings, 5))\n",
    "\n",
    "    if map_list[count+1] > map_list[count]:\n",
    "        print(\n",
    "            f'При k = {k} лучше вариант item-based. MAP_at_n_item = {map_list[count+1]:.3f} , MAP_at_n_user = {map_list[count]:.3f}')\n",
    "    else:\n",
    "        print(\n",
    "            f'При k = {k} лучше вариант user_based. MAP_at_n_item = {map_list[count+1]:.3f} , MAP_at_n_user = {map_list[count]:.3f}')\n",
    "    count += 2"
   ]
  },
  {
   "cell_type": "markdown",
   "metadata": {
    "id": "aKTck4LW_yo7"
   },
   "source": [
    "## Сложное задание\n",
    "\n",
    "Для датасэта\n",
    "\n",
    "```\n",
    "data = Dataset.load_builtin('ml-100k')\n",
    "trainset, testset = train_test_split(data, test_size=.30)\n",
    "\n",
    "```\n",
    "\n",
    "а) Для KNN(k=30) для каждого пользователя найти лучший алгоритм по Avg_Precision_at_n(7)\n",
    "Cравнивая между item-based, user-based подход, а также разные меры для (косинусную, Пирсона) в KNN.\n",
    "Докуметация к мерам:\n",
    "https://surprise.readthedocs.io/en/stable/prediction_algorithms.html#similarity-measures-configuration\n",
    "\n",
    "б) Для каждого пользователя расчитайте рейтинги фильмов используя лучший алгоритм из пункта а)\n",
    "\n",
    "в) Сравнить результат из б) с обычном kNN k=30 по метрике MAP (n=7).\n"
   ]
  },
  {
   "cell_type": "markdown",
   "metadata": {
    "id": "9_lxNgzH_yo8"
   },
   "source": [
    "#### а)"
   ]
  },
  {
   "cell_type": "markdown",
   "metadata": {},
   "source": [
    "Цифровое кодирование алгоритмов:\n",
    "- 0 - cosine, user-based\n",
    "- 1 - cosine, item-based\n",
    "- 2 - pearson baseline, user-based\n",
    "- 3 - pearson baseline, item-based"
   ]
  },
  {
   "cell_type": "code",
   "execution_count": 11,
   "metadata": {
    "id": "V48S2OMndfov"
   },
   "outputs": [],
   "source": [
    "apn_list = []\n",
    "algo_list = []\n",
    "users_list = []\n",
    "df_metrics = pd.DataFrame()\n",
    "\n",
    "for name in ['cosine', 'pearson_baseline']:\n",
    "    for based in [True, False]:\n",
    "        column_name = str('name:') + name + str(' user_based:') + str(based)\n",
    "        algo = KNNBaseline(k=30, sim_options={\n",
    "                           'name': name, 'user_based': based}, verbose=False)\n",
    "        predictions = algo.fit(trainset).test(testset)\n",
    "        df_ratings = pd.DataFrame(\n",
    "            columns=['userID', 'itemID', 'rating', 'real_rating'])\n",
    "        for i in predictions:\n",
    "            df_ratings = df_ratings.append(\n",
    "                {'userID': i.uid, 'itemID': i.iid, 'rating': i.est, 'real_rating': i.r_ui}, ignore_index=True)\n",
    "\n",
    "        for users in df_ratings['userID'].unique():\n",
    "            apn_list.append(Avg_Precision_at_n(\n",
    "                df_ratings[df_ratings['userID'] == users], 7))\n",
    "            \n",
    "        df_metrics[column_name] = apn_list\n",
    "        apn_list = []\n",
    "    \n",
    "for users in df_ratings['userID'].unique():\n",
    "    users_list.append(users)\n",
    "        \n",
    "df_metrics.insert(0, 'userID', users_list)\n",
    "df_metrics['max_apn_value'] = df_metrics.max(axis=1)\n",
    "\n",
    "for idx in df_metrics.index:\n",
    "    algo_list.append(np.where(df_metrics.drop(\n",
    "        ['userID', 'max_apn_value'], axis=1).iloc[idx] == df_metrics.iloc[idx].max_apn_value)[0][0])\n",
    "df_metrics['algorithm number'] = algo_list"
   ]
  },
  {
   "cell_type": "code",
   "execution_count": 19,
   "metadata": {},
   "outputs": [],
   "source": [
    "df_metrics.to_csv(BASE_DIR/'df_metrics.csv', sep=',', index_label='index')"
   ]
  },
  {
   "cell_type": "code",
   "execution_count": null,
   "metadata": {},
   "outputs": [],
   "source": [
    "df_metrics = pd.read_csv(BASE_DIR/'df_metrics.csv', sep=',', index_col='index')"
   ]
  },
  {
   "cell_type": "code",
   "execution_count": 20,
   "metadata": {},
   "outputs": [
    {
     "data": {
      "text/html": [
       "<div>\n",
       "<style scoped>\n",
       "    .dataframe tbody tr th:only-of-type {\n",
       "        vertical-align: middle;\n",
       "    }\n",
       "\n",
       "    .dataframe tbody tr th {\n",
       "        vertical-align: top;\n",
       "    }\n",
       "\n",
       "    .dataframe thead th {\n",
       "        text-align: right;\n",
       "    }\n",
       "</style>\n",
       "<table border=\"1\" class=\"dataframe\">\n",
       "  <thead>\n",
       "    <tr style=\"text-align: right;\">\n",
       "      <th></th>\n",
       "      <th>userID</th>\n",
       "      <th>name:cosine user_based:True</th>\n",
       "      <th>name:cosine user_based:False</th>\n",
       "      <th>name:pearson_baseline user_based:True</th>\n",
       "      <th>name:pearson_baseline user_based:False</th>\n",
       "      <th>max_apn_value</th>\n",
       "      <th>algorithm number</th>\n",
       "    </tr>\n",
       "  </thead>\n",
       "  <tbody>\n",
       "    <tr>\n",
       "      <th>0</th>\n",
       "      <td>782</td>\n",
       "      <td>0.020408</td>\n",
       "      <td>0.020408</td>\n",
       "      <td>0.020408</td>\n",
       "      <td>0.020408</td>\n",
       "      <td>0.020408</td>\n",
       "      <td>0</td>\n",
       "    </tr>\n",
       "    <tr>\n",
       "      <th>1</th>\n",
       "      <td>262</td>\n",
       "      <td>0.061224</td>\n",
       "      <td>0.061224</td>\n",
       "      <td>0.061224</td>\n",
       "      <td>0.061224</td>\n",
       "      <td>0.061224</td>\n",
       "      <td>0</td>\n",
       "    </tr>\n",
       "    <tr>\n",
       "      <th>2</th>\n",
       "      <td>656</td>\n",
       "      <td>0.020408</td>\n",
       "      <td>0.020408</td>\n",
       "      <td>0.020408</td>\n",
       "      <td>0.020408</td>\n",
       "      <td>0.020408</td>\n",
       "      <td>0</td>\n",
       "    </tr>\n",
       "    <tr>\n",
       "      <th>3</th>\n",
       "      <td>432</td>\n",
       "      <td>0.020408</td>\n",
       "      <td>0.061224</td>\n",
       "      <td>0.061224</td>\n",
       "      <td>0.061224</td>\n",
       "      <td>0.061224</td>\n",
       "      <td>1</td>\n",
       "    </tr>\n",
       "    <tr>\n",
       "      <th>4</th>\n",
       "      <td>167</td>\n",
       "      <td>0.122449</td>\n",
       "      <td>0.204082</td>\n",
       "      <td>0.204082</td>\n",
       "      <td>0.122449</td>\n",
       "      <td>0.204082</td>\n",
       "      <td>1</td>\n",
       "    </tr>\n",
       "  </tbody>\n",
       "</table>\n",
       "</div>"
      ],
      "text/plain": [
       "  userID  name:cosine user_based:True  name:cosine user_based:False  \\\n",
       "0    782                     0.020408                      0.020408   \n",
       "1    262                     0.061224                      0.061224   \n",
       "2    656                     0.020408                      0.020408   \n",
       "3    432                     0.020408                      0.061224   \n",
       "4    167                     0.122449                      0.204082   \n",
       "\n",
       "   name:pearson_baseline user_based:True  \\\n",
       "0                               0.020408   \n",
       "1                               0.061224   \n",
       "2                               0.020408   \n",
       "3                               0.061224   \n",
       "4                               0.204082   \n",
       "\n",
       "   name:pearson_baseline user_based:False  max_apn_value  algorithm number  \n",
       "0                                0.020408       0.020408                 0  \n",
       "1                                0.061224       0.061224                 0  \n",
       "2                                0.020408       0.020408                 0  \n",
       "3                                0.061224       0.061224                 1  \n",
       "4                                0.122449       0.204082                 1  "
      ]
     },
     "execution_count": 20,
     "metadata": {},
     "output_type": "execute_result"
    }
   ],
   "source": [
    "df_metrics.head()"
   ]
  },
  {
   "cell_type": "markdown",
   "metadata": {
    "id": "xnLPPWwa_ypb"
   },
   "source": [
    "#### б)"
   ]
  },
  {
   "cell_type": "code",
   "execution_count": 40,
   "metadata": {
    "id": "8NMloVLadgLx"
   },
   "outputs": [
    {
     "data": {
      "text/html": [
       "<div>\n",
       "<style scoped>\n",
       "    .dataframe tbody tr th:only-of-type {\n",
       "        vertical-align: middle;\n",
       "    }\n",
       "\n",
       "    .dataframe tbody tr th {\n",
       "        vertical-align: top;\n",
       "    }\n",
       "\n",
       "    .dataframe thead th {\n",
       "        text-align: right;\n",
       "    }\n",
       "</style>\n",
       "<table border=\"1\" class=\"dataframe\">\n",
       "  <thead>\n",
       "    <tr style=\"text-align: right;\">\n",
       "      <th></th>\n",
       "      <th>userID</th>\n",
       "      <th>itemID</th>\n",
       "      <th>rating 0</th>\n",
       "      <th>rating 1</th>\n",
       "      <th>rating 2</th>\n",
       "      <th>rating 3</th>\n",
       "      <th>algorithm number</th>\n",
       "      <th>real_rating</th>\n",
       "      <th>best_rating</th>\n",
       "    </tr>\n",
       "  </thead>\n",
       "  <tbody>\n",
       "    <tr>\n",
       "      <th>0</th>\n",
       "      <td>782</td>\n",
       "      <td>1251</td>\n",
       "      <td>3.851205</td>\n",
       "      <td>3.424778</td>\n",
       "      <td>3.701113</td>\n",
       "      <td>3.100972</td>\n",
       "      <td>0</td>\n",
       "      <td>3.0</td>\n",
       "      <td>3.851205</td>\n",
       "    </tr>\n",
       "    <tr>\n",
       "      <th>1</th>\n",
       "      <td>262</td>\n",
       "      <td>418</td>\n",
       "      <td>3.364223</td>\n",
       "      <td>3.210887</td>\n",
       "      <td>3.208854</td>\n",
       "      <td>3.089342</td>\n",
       "      <td>0</td>\n",
       "      <td>3.0</td>\n",
       "      <td>3.364223</td>\n",
       "    </tr>\n",
       "    <tr>\n",
       "      <th>2</th>\n",
       "      <td>656</td>\n",
       "      <td>347</td>\n",
       "      <td>3.377682</td>\n",
       "      <td>2.594202</td>\n",
       "      <td>3.105893</td>\n",
       "      <td>2.525608</td>\n",
       "      <td>0</td>\n",
       "      <td>4.0</td>\n",
       "      <td>3.377682</td>\n",
       "    </tr>\n",
       "    <tr>\n",
       "      <th>3</th>\n",
       "      <td>432</td>\n",
       "      <td>405</td>\n",
       "      <td>3.641523</td>\n",
       "      <td>3.639760</td>\n",
       "      <td>3.748952</td>\n",
       "      <td>3.710684</td>\n",
       "      <td>1</td>\n",
       "      <td>4.0</td>\n",
       "      <td>3.639760</td>\n",
       "    </tr>\n",
       "    <tr>\n",
       "      <th>4</th>\n",
       "      <td>167</td>\n",
       "      <td>478</td>\n",
       "      <td>3.596635</td>\n",
       "      <td>3.953934</td>\n",
       "      <td>4.077883</td>\n",
       "      <td>4.215468</td>\n",
       "      <td>1</td>\n",
       "      <td>5.0</td>\n",
       "      <td>3.953934</td>\n",
       "    </tr>\n",
       "    <tr>\n",
       "      <th>...</th>\n",
       "      <td>...</td>\n",
       "      <td>...</td>\n",
       "      <td>...</td>\n",
       "      <td>...</td>\n",
       "      <td>...</td>\n",
       "      <td>...</td>\n",
       "      <td>...</td>\n",
       "      <td>...</td>\n",
       "      <td>...</td>\n",
       "    </tr>\n",
       "    <tr>\n",
       "      <th>29995</th>\n",
       "      <td>374</td>\n",
       "      <td>1248</td>\n",
       "      <td>2.965181</td>\n",
       "      <td>3.154500</td>\n",
       "      <td>2.643351</td>\n",
       "      <td>2.894588</td>\n",
       "      <td>3</td>\n",
       "      <td>3.0</td>\n",
       "      <td>2.894588</td>\n",
       "    </tr>\n",
       "    <tr>\n",
       "      <th>29996</th>\n",
       "      <td>886</td>\n",
       "      <td>709</td>\n",
       "      <td>3.827966</td>\n",
       "      <td>3.715787</td>\n",
       "      <td>3.824292</td>\n",
       "      <td>4.027782</td>\n",
       "      <td>0</td>\n",
       "      <td>3.0</td>\n",
       "      <td>3.827966</td>\n",
       "    </tr>\n",
       "    <tr>\n",
       "      <th>29997</th>\n",
       "      <td>184</td>\n",
       "      <td>72</td>\n",
       "      <td>3.261273</td>\n",
       "      <td>3.397545</td>\n",
       "      <td>3.017213</td>\n",
       "      <td>3.134424</td>\n",
       "      <td>0</td>\n",
       "      <td>3.0</td>\n",
       "      <td>3.261273</td>\n",
       "    </tr>\n",
       "    <tr>\n",
       "      <th>29998</th>\n",
       "      <td>721</td>\n",
       "      <td>69</td>\n",
       "      <td>3.955801</td>\n",
       "      <td>4.115244</td>\n",
       "      <td>4.211077</td>\n",
       "      <td>4.533745</td>\n",
       "      <td>0</td>\n",
       "      <td>4.0</td>\n",
       "      <td>3.955801</td>\n",
       "    </tr>\n",
       "    <tr>\n",
       "      <th>29999</th>\n",
       "      <td>374</td>\n",
       "      <td>179</td>\n",
       "      <td>3.313676</td>\n",
       "      <td>3.137441</td>\n",
       "      <td>3.405084</td>\n",
       "      <td>3.482422</td>\n",
       "      <td>3</td>\n",
       "      <td>1.0</td>\n",
       "      <td>3.482422</td>\n",
       "    </tr>\n",
       "  </tbody>\n",
       "</table>\n",
       "<p>30000 rows × 9 columns</p>\n",
       "</div>"
      ],
      "text/plain": [
       "      userID itemID  rating 0  rating 1  rating 2  rating 3  algorithm number  \\\n",
       "0        782   1251  3.851205  3.424778  3.701113  3.100972                 0   \n",
       "1        262    418  3.364223  3.210887  3.208854  3.089342                 0   \n",
       "2        656    347  3.377682  2.594202  3.105893  2.525608                 0   \n",
       "3        432    405  3.641523  3.639760  3.748952  3.710684                 1   \n",
       "4        167    478  3.596635  3.953934  4.077883  4.215468                 1   \n",
       "...      ...    ...       ...       ...       ...       ...               ...   \n",
       "29995    374   1248  2.965181  3.154500  2.643351  2.894588                 3   \n",
       "29996    886    709  3.827966  3.715787  3.824292  4.027782                 0   \n",
       "29997    184     72  3.261273  3.397545  3.017213  3.134424                 0   \n",
       "29998    721     69  3.955801  4.115244  4.211077  4.533745                 0   \n",
       "29999    374    179  3.313676  3.137441  3.405084  3.482422                 3   \n",
       "\n",
       "       real_rating  best_rating  \n",
       "0              3.0     3.851205  \n",
       "1              3.0     3.364223  \n",
       "2              4.0     3.377682  \n",
       "3              4.0     3.639760  \n",
       "4              5.0     3.953934  \n",
       "...            ...          ...  \n",
       "29995          3.0     2.894588  \n",
       "29996          3.0     3.827966  \n",
       "29997          3.0     3.261273  \n",
       "29998          4.0     3.955801  \n",
       "29999          1.0     3.482422  \n",
       "\n",
       "[30000 rows x 9 columns]"
      ]
     },
     "execution_count": 40,
     "metadata": {},
     "output_type": "execute_result"
    }
   ],
   "source": [
    "idx = 0\n",
    "count = 0\n",
    "algo_list = []\n",
    "best_rating = []\n",
    "df_full = pd.DataFrame()\n",
    "\n",
    "for name in ['cosine', 'pearson_baseline']:\n",
    "    for based in [True, False]:\n",
    "        algo = KNNBaseline(k=30, sim_options={\n",
    "                           'name': name, 'user_based': based}, verbose=False)\n",
    "        predictions = algo.fit(trainset).test(testset)\n",
    "        df_ratings = pd.DataFrame(\n",
    "            columns=['userID', 'itemID', 'rating', 'real_rating'])\n",
    "        for i in predictions:\n",
    "            df_ratings = df_ratings.append(\n",
    "                {'userID': i.uid, 'itemID': i.iid, 'rating': i.est, 'real_rating': i.r_ui}, ignore_index=True)\n",
    "        df_full['rating '+ str(count)] = df_ratings['rating']\n",
    "        count += 1\n",
    "        \n",
    "df_full.insert(0, 'userID', df_ratings.userID)\n",
    "df_full.insert(1, 'itemID', df_ratings.itemID)\n",
    "\n",
    "for users in df_full.userID:\n",
    "    algo_list.append(df_metrics[df_metrics['userID'] == users]['algorithm number'].tolist()[0])\n",
    "\n",
    "df_full['algorithm number'] = algo_list\n",
    "df_full['real_rating'] = df_ratings['real_rating']\n",
    "\n",
    "for alg_num in df_full['algorithm number']:\n",
    "    best_rating.append(df_full.iloc[idx][str('rating ') + str(alg_num)])\n",
    "    idx += 1\n",
    "df_full['best_rating'] = best_rating\n",
    "\n",
    "df_full"
   ]
  },
  {
   "cell_type": "code",
   "execution_count": 41,
   "metadata": {},
   "outputs": [],
   "source": [
    "df_full.to_csv(BASE_DIR/'df_full.csv', sep=',', index_label='index')"
   ]
  },
  {
   "cell_type": "code",
   "execution_count": 50,
   "metadata": {},
   "outputs": [],
   "source": [
    "df_full = pd.read_csv(BASE_DIR/'df_full.csv', sep=',', index_col='index')"
   ]
  },
  {
   "cell_type": "markdown",
   "metadata": {
    "id": "N8if-Exg_ypi"
   },
   "source": [
    "#### в)"
   ]
  },
  {
   "cell_type": "code",
   "execution_count": 43,
   "metadata": {},
   "outputs": [
    {
     "data": {
      "text/plain": [
       "0.1205661479862356"
      ]
     },
     "execution_count": 43,
     "metadata": {},
     "output_type": "execute_result"
    }
   ],
   "source": [
    "#обычный kNN k=30 по метрике MAP (n=7)\n",
    "algo = KNNBaseline(k=30, sim_options={'user_based': True}, verbose=False)\n",
    "predictions = algo.fit(trainset).test(testset)\n",
    "df_ratings = pd.DataFrame(columns=['userID', 'itemID', 'rating', 'real_rating'])\n",
    "for i in predictions:\n",
    "    df_ratings = df_ratings.append({'userID': i.uid, 'itemID': i.iid, 'rating': i.est, 'real_rating': i.r_ui}, ignore_index=True)\n",
    "MAP_at_n(df_ratings, 7)"
   ]
  },
  {
   "cell_type": "code",
   "execution_count": 52,
   "metadata": {},
   "outputs": [
    {
     "data": {
      "text/plain": [
       "0.1557989049278238"
      ]
     },
     "execution_count": 52,
     "metadata": {},
     "output_type": "execute_result"
    }
   ],
   "source": [
    "df_full = df_full[['userID','itemID','best_rating','real_rating']]\n",
    "df_full = df_full.rename(columns={'best_rating': 'rating'})\n",
    "MAP_at_n(df_full, 7)"
   ]
  },
  {
   "cell_type": "markdown",
   "metadata": {},
   "source": [
    "Видим, что результат из пункта б) оказался намного лучше."
   ]
  }
 ],
 "metadata": {
  "colab": {
   "collapsed_sections": [],
   "name": "Skillbox_recsys_14-HW.ipynb",
   "provenance": []
  },
  "kernelspec": {
   "display_name": "Python 3",
   "language": "python",
   "name": "python3"
  },
  "language_info": {
   "codemirror_mode": {
    "name": "ipython",
    "version": 3
   },
   "file_extension": ".py",
   "mimetype": "text/x-python",
   "name": "python",
   "nbconvert_exporter": "python",
   "pygments_lexer": "ipython3",
   "version": "3.8.8"
  }
 },
 "nbformat": 4,
 "nbformat_minor": 1
}
